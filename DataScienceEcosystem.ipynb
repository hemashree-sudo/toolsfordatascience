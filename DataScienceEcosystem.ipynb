{
 "cells": [
  {
   "cell_type": "markdown",
   "id": "c3a18f0e-8bc2-43b8-a3dd-53268db76a36",
   "metadata": {},
   "source": [
    "# Data Science Tools and Ecosystem"
   ]
  },
  {
   "cell_type": "markdown",
   "id": "46f7fb70-9098-48da-aa83-04e9effc0792",
   "metadata": {},
   "source": [
    "### In this notebook, Data Science Tools and Ecosystem are summarized."
   ]
  },
  {
   "cell_type": "markdown",
   "id": "487d7e60-9b4e-4bea-84ce-c125623ddec5",
   "metadata": {},
   "source": [
    "__Objectives__:\n",
    "- Languages for Data Science like Python, R, Java, Julia\n",
    "- Learnt about TensorFlow, AirFlow, PyTorch\n",
    "- Learnt about libraries numpy, pandas, matplot           "
   ]
  },
  {
   "cell_type": "markdown",
   "id": "9a79821b-7a61-4af4-9b5e-db048b7aaa43",
   "metadata": {},
   "source": [
    "#### Some of the popular languages that Data Scientists use are:\n",
    "1. Python\n",
    "2. R\n",
    "3. Java"
   ]
  },
  {
   "cell_type": "markdown",
   "id": "a9a9cd5e-2fc1-4b78-95c6-d95406a3d76b",
   "metadata": {},
   "source": [
    "#### Some of the commonly used libraries used by Data Scientists include:\n",
    "1. Numpy\n",
    "2. Pandas\n",
    "3. Matplot"
   ]
  },
  {
   "cell_type": "markdown",
   "id": "78b95844-4d01-4cad-bc18-6d5d396f71e6",
   "metadata": {},
   "source": [
    "|Data Science Tools|\n",
    "|------------------|\n",
    "| PyTorch          |\n",
    "| TensorFlow       |\n",
    "| Jupyter Notebook |"
   ]
  },
  {
   "cell_type": "markdown",
   "id": "0d803a3b-fc60-4a4c-b2aa-d261de5ecc30",
   "metadata": {},
   "source": [
    "### Below are a few examples of evaluating arithmetic expressions in Python"
   ]
  },
  {
   "cell_type": "code",
   "execution_count": 2,
   "id": "95e59ce6-6473-4803-bf65-5a3088b998a2",
   "metadata": {},
   "outputs": [
    {
     "data": {
      "text/plain": [
       "17"
      ]
     },
     "execution_count": 2,
     "metadata": {},
     "output_type": "execute_result"
    }
   ],
   "source": [
    "## This a simple arithmetic expression to mutiply then add integers\n",
    "(3*4)+5"
   ]
  },
  {
   "cell_type": "code",
   "execution_count": 4,
   "id": "f55070fc-4cc1-4369-a1eb-730cf898cb28",
   "metadata": {},
   "outputs": [
    {
     "data": {
      "text/plain": [
       "3.3333333333333335"
      ]
     },
     "execution_count": 4,
     "metadata": {},
     "output_type": "execute_result"
    }
   ],
   "source": [
    "# This will convert 200 minutes to hours by diving by 60\n",
    "200/60"
   ]
  },
  {
   "cell_type": "markdown",
   "id": "8f1452da-0f54-412c-8466-1298bffc95de",
   "metadata": {},
   "source": [
    "## Author\n",
    "Hemashree Thavaseelan"
   ]
  },
  {
   "cell_type": "code",
   "execution_count": null,
   "id": "a5b9427c-3323-43a9-b584-30cd07b1fbbc",
   "metadata": {},
   "outputs": [],
   "source": []
  }
 ],
 "metadata": {
  "kernelspec": {
   "display_name": "Python 3 (ipykernel)",
   "language": "python",
   "name": "python3"
  },
  "language_info": {
   "codemirror_mode": {
    "name": "ipython",
    "version": 3
   },
   "file_extension": ".py",
   "mimetype": "text/x-python",
   "name": "python",
   "nbconvert_exporter": "python",
   "pygments_lexer": "ipython3",
   "version": "3.12.4"
  }
 },
 "nbformat": 4,
 "nbformat_minor": 5
}
